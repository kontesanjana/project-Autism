{
  "nbformat": 4,
  "nbformat_minor": 0,
  "metadata": {
    "accelerator": "GPU",
    "colab": {
      "name": "autism.ipynb",
      "provenance": [],
      "collapsed_sections": []
    },
    "kernelspec": {
      "display_name": "Python 3",
      "name": "python3"
    }
  },
  "cells": [
    {
      "cell_type": "code",
      "metadata": {
        "id": "y349VKAbyVTI",
        "colab": {
          "base_uri": "https://localhost:8080/"
        },
        "outputId": "b5e57362-07e8-4c85-cc1b-4914c82ccf3d"
      },
      "source": [
        "from google.colab import drive\n",
        "drive.mount('/content/drive')"
      ],
      "execution_count": null,
      "outputs": [
        {
          "output_type": "stream",
          "text": [
            "Mounted at /content/drive\n"
          ],
          "name": "stdout"
        }
      ]
    },
    {
      "cell_type": "markdown",
      "metadata": {
        "id": "1DfD-xkG-Yha"
      },
      "source": [
        "**IMPORTING LIBRARIES**"
      ]
    },
    {
      "cell_type": "code",
      "metadata": {
        "id": "uPCPOy8gJ3uD"
      },
      "source": [
        "import pandas as pd # data processing, CSV file I/O (e.g. pd.read_csv)\n",
        "import seaborn as sns\n",
        "import sys\n",
        "import os\n",
        "from keras.applications.vgg16 import VGG16\n",
        "import keras\n",
        "from numpy import load\n",
        "from matplotlib import pyplot\n",
        "\n",
        "#from __future__ import absolute_import, division, print_function, unicode_literals\n",
        "import tensorflow as tf\n",
        "#import tensorflow_hub as hub\n",
        "from sklearn.model_selection import train_test_split\n",
        "from keras import backend\n",
        "from keras.layers import Dense\n",
        "from keras.layers import Flatten\n",
        "from keras.models import Sequential\n",
        "from keras.layers import Conv2D,MaxPooling2D\n",
        "from keras.optimizers import SGD\n",
        "from keras.models import Model\n",
        "from keras.preprocessing.image import ImageDataGenerator\n",
        "from keras.preprocessing.image import load_img\n",
        "from keras.preprocessing.image import img_to_array\n",
        "from keras.layers import Dropout\n",
        "from keras.layers.normalization import BatchNormalization"
      ],
      "execution_count": null,
      "outputs": []
    },
    {
      "cell_type": "code",
      "metadata": {
        "id": "f-UZ1zkzGMev"
      },
      "source": [
        "import os\n",
        "import zipfile\n",
        "import tensorflow as tf\n",
        "from tensorflow.keras.optimizers import RMSprop\n",
        "from tensorflow.keras.preprocessing.image import ImageDataGenerator"
      ],
      "execution_count": null,
      "outputs": []
    },
    {
      "cell_type": "markdown",
      "metadata": {
        "id": "vriZcX4e-mUH"
      },
      "source": [
        "**SPLITTING DATA INTO TRAINING AND VALIDATION**"
      ]
    },
    {
      "cell_type": "code",
      "metadata": {
        "id": "0tzc1hSoKNWg"
      },
      "source": [
        "traindir = \"/content/drive/MyDrive/autistic/train\"\n",
        "validdir = \"/content/drive/MyDrive/autistic/valid\"\n",
        "testdir = \"/content/drive/MyDrive/autistic/test\"\n",
        "\n",
        "train_datagen = ImageDataGenerator(\n",
        "      rescale=1./255,\n",
        "      rotation_range=40,\n",
        "      width_shift_range=0.2,\n",
        "      height_shift_range=0.2,\n",
        "      shear_range=0.2,\n",
        "      zoom_range=0.2,\n",
        "      horizontal_flip=True,\n",
        "      fill_mode='nearest')\n",
        "\n",
        "valid_datagen = ImageDataGenerator(rescale=1./255)\n",
        "\n",
        "test_datagen = ImageDataGenerator(rescale=1./255)"
      ],
      "execution_count": null,
      "outputs": []
    },
    {
      "cell_type": "code",
      "metadata": {
        "colab": {
          "base_uri": "https://localhost:8080/"
        },
        "id": "mzlxINXlL0fo",
        "outputId": "f14d2708-a69d-4dad-c5f3-d5eab3961cfe"
      },
      "source": [
        "batch_size = 40\n",
        "\n",
        "training_set = train_datagen.flow_from_directory(traindir, target_size=(150, 150), batch_size=batch_size, class_mode='categorical')\n",
        "\n",
        "valid_set = valid_datagen.flow_from_directory(validdir, target_size=(150, 150), batch_size=batch_size, class_mode='categorical')\n",
        "\n",
        "test_set = test_datagen.flow_from_directory(testdir, target_size=(150, 150), batch_size=batch_size, class_mode= None)"
      ],
      "execution_count": null,
      "outputs": [
        {
          "output_type": "stream",
          "text": [
            "Found 440 images belonging to 4 classes.\n",
            "Found 139 images belonging to 4 classes.\n",
            "Found 250 images belonging to 4 classes.\n"
          ],
          "name": "stdout"
        }
      ]
    },
    {
      "cell_type": "code",
      "metadata": {
        "colab": {
          "base_uri": "https://localhost:8080/"
        },
        "id": "giLMKjIFMI5K",
        "outputId": "7d9533d7-d04b-4e70-cad6-9efa8504f5e2"
      },
      "source": [
        "class_dict = training_set.class_indices\n",
        "\n",
        "print(class_dict)"
      ],
      "execution_count": null,
      "outputs": [
        {
          "output_type": "stream",
          "text": [
            "{'angry': 0, 'fear': 1, 'neutral': 2, 'sad': 3}\n"
          ],
          "name": "stdout"
        }
      ]
    },
    {
      "cell_type": "code",
      "metadata": {
        "colab": {
          "base_uri": "https://localhost:8080/"
        },
        "id": "0qM7jHD1UcFO",
        "outputId": "22546d0a-9093-4175-92de-7c89ba13e45c"
      },
      "source": [
        "cls_dict = valid_set.class_indices\n",
        "print(cls_dict)"
      ],
      "execution_count": null,
      "outputs": [
        {
          "output_type": "stream",
          "text": [
            "{'angry': 0, 'fear': 1, 'neutral': 2, 'sad': 3}\n"
          ],
          "name": "stdout"
        }
      ]
    },
    {
      "cell_type": "code",
      "metadata": {
        "colab": {
          "base_uri": "https://localhost:8080/"
        },
        "id": "eHRlV-x4MQKK",
        "outputId": "ef6c0861-5bd7-416b-c89c-4fe5b855e613"
      },
      "source": [
        "li = list(class_dict.keys())\n",
        "print(li)"
      ],
      "execution_count": null,
      "outputs": [
        {
          "output_type": "stream",
          "text": [
            "['angry', 'fear', 'neutral', 'sad']\n"
          ],
          "name": "stdout"
        }
      ]
    },
    {
      "cell_type": "code",
      "metadata": {
        "id": "63HPc5PJzGTk"
      },
      "source": [
        "train_num = training_set.samples\n",
        "valid_num = valid_set.samples"
      ],
      "execution_count": null,
      "outputs": []
    },
    {
      "cell_type": "markdown",
      "metadata": {
        "id": "i6TnE_pPGPk1"
      },
      "source": [
        "history = model.fit(\n",
        "      training_set,\n",
        "      steps_per_epoch=train_num//batch_size,  # 2000 images = batch_size * steps\n",
        "      epochs=3,\n",
        "      validation_data=valid_set,\n",
        "      validation_steps=valid_num//batch_size) # 1000 images = batch_size * steps"
      ]
    },
    {
      "cell_type": "code",
      "metadata": {
        "colab": {
          "base_uri": "https://localhost:8080/"
        },
        "id": "8I1yx3xXyndH",
        "outputId": "4ba66e32-8569-4cfc-d2e4-9999e70b879a"
      },
      "source": [
        "print(tf.__version__)"
      ],
      "execution_count": null,
      "outputs": [
        {
          "output_type": "stream",
          "text": [
            "2.5.0\n"
          ],
          "name": "stdout"
        }
      ]
    },
    {
      "cell_type": "markdown",
      "metadata": {
        "id": "N9VZgQ-ilE9e"
      },
      "source": [
        "# VGG16 Model"
      ]
    },
    {
      "cell_type": "markdown",
      "metadata": {
        "id": "AbhiWsE6-zza"
      },
      "source": [
        "**INITIALIZING THE BASE MODEL: VGG16**"
      ]
    },
    {
      "cell_type": "code",
      "metadata": {
        "id": "1GF6LHvfMXeu"
      },
      "source": [
        "base_model=VGG16(include_top=False, weights=\"imagenet\", input_shape=(150,150,3))\n",
        "base_model.trainable=False"
      ],
      "execution_count": null,
      "outputs": []
    },
    {
      "cell_type": "markdown",
      "metadata": {
        "id": "kxKa4U3a-7v5"
      },
      "source": [
        "**ADDING FURTHER LAYERS**"
      ]
    },
    {
      "cell_type": "code",
      "metadata": {
        "colab": {
          "base_uri": "https://localhost:8080/"
        },
        "id": "DNvsq_YtMcSA",
        "outputId": "9f79b35f-1cc8-471f-d0e8-eee4ec840a68"
      },
      "source": [
        "classifier=keras.models.Sequential()\n",
        "classifier.add(base_model)\n",
        "classifier.add(Flatten())\n",
        "classifier.add(Dense(4,activation='softmax'))\n",
        "classifier.summary()"
      ],
      "execution_count": null,
      "outputs": [
        {
          "output_type": "stream",
          "text": [
            "Model: \"sequential_4\"\n",
            "_________________________________________________________________\n",
            "Layer (type)                 Output Shape              Param #   \n",
            "=================================================================\n",
            "vgg16 (Functional)           (None, 4, 4, 512)         14714688  \n",
            "_________________________________________________________________\n",
            "flatten_4 (Flatten)          (None, 8192)              0         \n",
            "_________________________________________________________________\n",
            "dense_4 (Dense)              (None, 4)                 32772     \n",
            "=================================================================\n",
            "Total params: 14,747,460\n",
            "Trainable params: 32,772\n",
            "Non-trainable params: 14,714,688\n",
            "_________________________________________________________________\n"
          ],
          "name": "stdout"
        }
      ]
    },
    {
      "cell_type": "markdown",
      "metadata": {
        "id": "-0QQpSYD_Dd0"
      },
      "source": [
        "**TRAINING THE MODEL**"
      ]
    },
    {
      "cell_type": "code",
      "metadata": {
        "id": "mEKIB0mUMf-j"
      },
      "source": [
        "classifier.compile(optimizer='adam', loss='binary_crossentropy', metrics=['accuracy'])"
      ],
      "execution_count": null,
      "outputs": []
    },
    {
      "cell_type": "code",
      "metadata": {
        "colab": {
          "base_uri": "https://localhost:8080/"
        },
        "id": "dtZf33_jMn3E",
        "outputId": "1cc65de8-6b19-4d71-a1b4-1cad616b1a4e"
      },
      "source": [
        "# fitting images to CNN\n",
        "history = classifier.fit(training_set, steps_per_epoch=train_num//batch_size, validation_data=valid_set, epochs=40, validation_steps=valid_num//batch_size)"
      ],
      "execution_count": null,
      "outputs": [
        {
          "output_type": "stream",
          "text": [
            "Epoch 1/40\n",
            "11/11 [==============================] - 5s 378ms/step - loss: 1.4625 - accuracy: 0.3814 - val_loss: 1.3237 - val_accuracy: 0.4583\n",
            "Epoch 2/40\n",
            "11/11 [==============================] - 3s 327ms/step - loss: 1.1288 - accuracy: 0.4738 - val_loss: 1.0667 - val_accuracy: 0.5583\n",
            "Epoch 3/40\n",
            "11/11 [==============================] - 3s 334ms/step - loss: 1.0578 - accuracy: 0.5181 - val_loss: 1.0961 - val_accuracy: 0.5667\n",
            "Epoch 4/40\n",
            "11/11 [==============================] - 3s 324ms/step - loss: 1.0911 - accuracy: 0.4844 - val_loss: 1.0295 - val_accuracy: 0.5750\n",
            "Epoch 5/40\n",
            "11/11 [==============================] - 3s 324ms/step - loss: 1.0264 - accuracy: 0.5236 - val_loss: 0.9096 - val_accuracy: 0.6000\n",
            "Epoch 6/40\n",
            "11/11 [==============================] - 3s 322ms/step - loss: 0.9635 - accuracy: 0.5907 - val_loss: 0.9487 - val_accuracy: 0.6083\n",
            "Epoch 7/40\n",
            "11/11 [==============================] - 3s 320ms/step - loss: 0.9007 - accuracy: 0.6216 - val_loss: 0.9045 - val_accuracy: 0.6333\n",
            "Epoch 8/40\n",
            "11/11 [==============================] - 3s 326ms/step - loss: 0.9024 - accuracy: 0.6445 - val_loss: 0.9440 - val_accuracy: 0.5583\n",
            "Epoch 9/40\n",
            "11/11 [==============================] - 3s 322ms/step - loss: 0.9312 - accuracy: 0.5903 - val_loss: 0.8469 - val_accuracy: 0.6833\n",
            "Epoch 10/40\n",
            "11/11 [==============================] - 3s 323ms/step - loss: 0.8701 - accuracy: 0.6288 - val_loss: 0.7834 - val_accuracy: 0.6750\n",
            "Epoch 11/40\n",
            "11/11 [==============================] - 3s 323ms/step - loss: 0.8709 - accuracy: 0.6247 - val_loss: 0.7994 - val_accuracy: 0.7000\n",
            "Epoch 12/40\n",
            "11/11 [==============================] - 3s 323ms/step - loss: 0.9136 - accuracy: 0.6144 - val_loss: 0.8388 - val_accuracy: 0.6583\n",
            "Epoch 13/40\n",
            "11/11 [==============================] - 3s 323ms/step - loss: 0.8483 - accuracy: 0.6416 - val_loss: 0.8693 - val_accuracy: 0.5833\n",
            "Epoch 14/40\n",
            "11/11 [==============================] - 3s 322ms/step - loss: 0.8267 - accuracy: 0.6325 - val_loss: 0.8491 - val_accuracy: 0.6333\n",
            "Epoch 15/40\n",
            "11/11 [==============================] - 3s 318ms/step - loss: 0.8430 - accuracy: 0.6847 - val_loss: 0.7684 - val_accuracy: 0.7167\n",
            "Epoch 16/40\n",
            "11/11 [==============================] - 3s 322ms/step - loss: 0.8017 - accuracy: 0.6534 - val_loss: 0.7543 - val_accuracy: 0.7167\n",
            "Epoch 17/40\n",
            "11/11 [==============================] - 3s 323ms/step - loss: 0.7451 - accuracy: 0.6602 - val_loss: 0.6688 - val_accuracy: 0.7583\n",
            "Epoch 18/40\n",
            "11/11 [==============================] - 3s 326ms/step - loss: 0.7735 - accuracy: 0.6712 - val_loss: 0.7003 - val_accuracy: 0.6667\n",
            "Epoch 19/40\n",
            "11/11 [==============================] - 3s 322ms/step - loss: 0.7803 - accuracy: 0.6889 - val_loss: 0.6856 - val_accuracy: 0.7417\n",
            "Epoch 20/40\n",
            "11/11 [==============================] - 3s 330ms/step - loss: 0.7966 - accuracy: 0.6683 - val_loss: 0.7372 - val_accuracy: 0.6917\n",
            "Epoch 21/40\n",
            "11/11 [==============================] - 3s 332ms/step - loss: 0.7753 - accuracy: 0.7022 - val_loss: 0.6863 - val_accuracy: 0.7250\n",
            "Epoch 22/40\n",
            "11/11 [==============================] - 3s 323ms/step - loss: 0.7227 - accuracy: 0.7231 - val_loss: 0.6177 - val_accuracy: 0.7667\n",
            "Epoch 23/40\n",
            "11/11 [==============================] - 3s 324ms/step - loss: 0.7803 - accuracy: 0.6804 - val_loss: 0.6615 - val_accuracy: 0.7833\n",
            "Epoch 24/40\n",
            "11/11 [==============================] - 3s 323ms/step - loss: 0.8345 - accuracy: 0.6771 - val_loss: 0.7027 - val_accuracy: 0.7500\n",
            "Epoch 25/40\n",
            "11/11 [==============================] - 3s 324ms/step - loss: 0.7757 - accuracy: 0.7052 - val_loss: 0.6641 - val_accuracy: 0.7417\n",
            "Epoch 26/40\n",
            "11/11 [==============================] - 3s 328ms/step - loss: 0.7509 - accuracy: 0.6795 - val_loss: 0.8104 - val_accuracy: 0.5917\n",
            "Epoch 27/40\n",
            "11/11 [==============================] - 3s 325ms/step - loss: 0.7674 - accuracy: 0.6735 - val_loss: 0.7576 - val_accuracy: 0.6333\n",
            "Epoch 28/40\n",
            "11/11 [==============================] - 3s 327ms/step - loss: 0.7791 - accuracy: 0.6861 - val_loss: 0.6004 - val_accuracy: 0.7917\n",
            "Epoch 29/40\n",
            "11/11 [==============================] - 3s 317ms/step - loss: 0.7504 - accuracy: 0.7170 - val_loss: 0.6862 - val_accuracy: 0.7167\n",
            "Epoch 30/40\n",
            "11/11 [==============================] - 3s 320ms/step - loss: 0.6801 - accuracy: 0.7123 - val_loss: 0.6170 - val_accuracy: 0.7750\n",
            "Epoch 31/40\n",
            "11/11 [==============================] - 3s 328ms/step - loss: 0.7124 - accuracy: 0.7068 - val_loss: 0.5648 - val_accuracy: 0.8250\n",
            "Epoch 32/40\n",
            "11/11 [==============================] - 3s 324ms/step - loss: 0.6481 - accuracy: 0.7576 - val_loss: 0.6469 - val_accuracy: 0.7500\n",
            "Epoch 33/40\n",
            "11/11 [==============================] - 3s 318ms/step - loss: 0.6992 - accuracy: 0.7110 - val_loss: 0.6263 - val_accuracy: 0.7750\n",
            "Epoch 34/40\n",
            "11/11 [==============================] - 3s 322ms/step - loss: 0.6523 - accuracy: 0.7482 - val_loss: 0.6036 - val_accuracy: 0.8000\n",
            "Epoch 35/40\n",
            "11/11 [==============================] - 3s 315ms/step - loss: 0.6009 - accuracy: 0.7904 - val_loss: 0.5994 - val_accuracy: 0.7583\n",
            "Epoch 36/40\n",
            "11/11 [==============================] - 3s 328ms/step - loss: 0.7095 - accuracy: 0.7174 - val_loss: 0.5861 - val_accuracy: 0.7833\n",
            "Epoch 37/40\n",
            "11/11 [==============================] - 3s 319ms/step - loss: 0.7092 - accuracy: 0.7361 - val_loss: 0.5433 - val_accuracy: 0.8250\n",
            "Epoch 38/40\n",
            "11/11 [==============================] - 3s 319ms/step - loss: 0.6676 - accuracy: 0.7333 - val_loss: 0.5452 - val_accuracy: 0.8417\n",
            "Epoch 39/40\n",
            "11/11 [==============================] - 3s 323ms/step - loss: 0.6660 - accuracy: 0.6956 - val_loss: 0.6764 - val_accuracy: 0.7250\n",
            "Epoch 40/40\n",
            "11/11 [==============================] - 3s 323ms/step - loss: 0.5972 - accuracy: 0.7558 - val_loss: 0.6580 - val_accuracy: 0.7333\n"
          ],
          "name": "stdout"
        }
      ]
    },
    {
      "cell_type": "code",
      "metadata": {
        "id": "t3Am3S50M6qX"
      },
      "source": [
        "#Saving our model\n",
        "filepath=\"Mymodel.h5\"\n",
        "classifier.save(filepath)"
      ],
      "execution_count": null,
      "outputs": []
    },
    {
      "cell_type": "code",
      "metadata": {
        "colab": {
          "base_uri": "https://localhost:8080/",
          "height": 329
        },
        "id": "BQ_h3mKBUaXL",
        "outputId": "dc3e62a9-f735-4c0d-b901-7905d2d83803"
      },
      "source": [
        "classifier.predict(test_set)"
      ],
      "execution_count": null,
      "outputs": [
        {
          "output_type": "error",
          "ename": "KeyboardInterrupt",
          "evalue": "ignored",
          "traceback": [
            "\u001b[0;31m---------------------------------------------------------------------------\u001b[0m",
            "\u001b[0;31mKeyboardInterrupt\u001b[0m                         Traceback (most recent call last)",
            "\u001b[0;32m<ipython-input-71-585d1bb081aa>\u001b[0m in \u001b[0;36m<module>\u001b[0;34m()\u001b[0m\n\u001b[0;32m----> 1\u001b[0;31m \u001b[0mclassifier\u001b[0m\u001b[0;34m.\u001b[0m\u001b[0mpredict\u001b[0m\u001b[0;34m(\u001b[0m\u001b[0mtest_set\u001b[0m\u001b[0;34m)\u001b[0m\u001b[0;34m\u001b[0m\u001b[0;34m\u001b[0m\u001b[0m\n\u001b[0m",
            "\u001b[0;32m/usr/local/lib/python3.7/dist-packages/keras/engine/training.py\u001b[0m in \u001b[0;36mpredict\u001b[0;34m(self, x, batch_size, verbose, steps, callbacks, max_queue_size, workers, use_multiprocessing)\u001b[0m\n\u001b[1;32m   1700\u001b[0m           \u001b[0;32mfor\u001b[0m \u001b[0mstep\u001b[0m \u001b[0;32min\u001b[0m \u001b[0mdata_handler\u001b[0m\u001b[0;34m.\u001b[0m\u001b[0msteps\u001b[0m\u001b[0;34m(\u001b[0m\u001b[0;34m)\u001b[0m\u001b[0;34m:\u001b[0m\u001b[0;34m\u001b[0m\u001b[0;34m\u001b[0m\u001b[0m\n\u001b[1;32m   1701\u001b[0m             \u001b[0mcallbacks\u001b[0m\u001b[0;34m.\u001b[0m\u001b[0mon_predict_batch_begin\u001b[0m\u001b[0;34m(\u001b[0m\u001b[0mstep\u001b[0m\u001b[0;34m)\u001b[0m\u001b[0;34m\u001b[0m\u001b[0;34m\u001b[0m\u001b[0m\n\u001b[0;32m-> 1702\u001b[0;31m             \u001b[0mtmp_batch_outputs\u001b[0m \u001b[0;34m=\u001b[0m \u001b[0mself\u001b[0m\u001b[0;34m.\u001b[0m\u001b[0mpredict_function\u001b[0m\u001b[0;34m(\u001b[0m\u001b[0miterator\u001b[0m\u001b[0;34m)\u001b[0m\u001b[0;34m\u001b[0m\u001b[0;34m\u001b[0m\u001b[0m\n\u001b[0m\u001b[1;32m   1703\u001b[0m             \u001b[0;32mif\u001b[0m \u001b[0mdata_handler\u001b[0m\u001b[0;34m.\u001b[0m\u001b[0mshould_sync\u001b[0m\u001b[0;34m:\u001b[0m\u001b[0;34m\u001b[0m\u001b[0;34m\u001b[0m\u001b[0m\n\u001b[1;32m   1704\u001b[0m               \u001b[0mcontext\u001b[0m\u001b[0;34m.\u001b[0m\u001b[0masync_wait\u001b[0m\u001b[0;34m(\u001b[0m\u001b[0;34m)\u001b[0m\u001b[0;34m\u001b[0m\u001b[0;34m\u001b[0m\u001b[0m\n",
            "\u001b[0;32m/usr/local/lib/python3.7/dist-packages/tensorflow/python/eager/def_function.py\u001b[0m in \u001b[0;36m__call__\u001b[0;34m(self, *args, **kwds)\u001b[0m\n\u001b[1;32m    887\u001b[0m \u001b[0;34m\u001b[0m\u001b[0m\n\u001b[1;32m    888\u001b[0m       \u001b[0;32mwith\u001b[0m \u001b[0mOptionalXlaContext\u001b[0m\u001b[0;34m(\u001b[0m\u001b[0mself\u001b[0m\u001b[0;34m.\u001b[0m\u001b[0m_jit_compile\u001b[0m\u001b[0;34m)\u001b[0m\u001b[0;34m:\u001b[0m\u001b[0;34m\u001b[0m\u001b[0;34m\u001b[0m\u001b[0m\n\u001b[0;32m--> 889\u001b[0;31m         \u001b[0mresult\u001b[0m \u001b[0;34m=\u001b[0m \u001b[0mself\u001b[0m\u001b[0;34m.\u001b[0m\u001b[0m_call\u001b[0m\u001b[0;34m(\u001b[0m\u001b[0;34m*\u001b[0m\u001b[0margs\u001b[0m\u001b[0;34m,\u001b[0m \u001b[0;34m**\u001b[0m\u001b[0mkwds\u001b[0m\u001b[0;34m)\u001b[0m\u001b[0;34m\u001b[0m\u001b[0;34m\u001b[0m\u001b[0m\n\u001b[0m\u001b[1;32m    890\u001b[0m \u001b[0;34m\u001b[0m\u001b[0m\n\u001b[1;32m    891\u001b[0m       \u001b[0mnew_tracing_count\u001b[0m \u001b[0;34m=\u001b[0m \u001b[0mself\u001b[0m\u001b[0;34m.\u001b[0m\u001b[0mexperimental_get_tracing_count\u001b[0m\u001b[0;34m(\u001b[0m\u001b[0;34m)\u001b[0m\u001b[0;34m\u001b[0m\u001b[0;34m\u001b[0m\u001b[0m\n",
            "\u001b[0;32m/usr/local/lib/python3.7/dist-packages/tensorflow/python/eager/def_function.py\u001b[0m in \u001b[0;36m_call\u001b[0;34m(self, *args, **kwds)\u001b[0m\n\u001b[1;32m    922\u001b[0m       \u001b[0;31m# In this case we have not created variables on the first call. So we can\u001b[0m\u001b[0;34m\u001b[0m\u001b[0;34m\u001b[0m\u001b[0;34m\u001b[0m\u001b[0m\n\u001b[1;32m    923\u001b[0m       \u001b[0;31m# run the first trace but we should fail if variables are created.\u001b[0m\u001b[0;34m\u001b[0m\u001b[0;34m\u001b[0m\u001b[0;34m\u001b[0m\u001b[0m\n\u001b[0;32m--> 924\u001b[0;31m       \u001b[0mresults\u001b[0m \u001b[0;34m=\u001b[0m \u001b[0mself\u001b[0m\u001b[0;34m.\u001b[0m\u001b[0m_stateful_fn\u001b[0m\u001b[0;34m(\u001b[0m\u001b[0;34m*\u001b[0m\u001b[0margs\u001b[0m\u001b[0;34m,\u001b[0m \u001b[0;34m**\u001b[0m\u001b[0mkwds\u001b[0m\u001b[0;34m)\u001b[0m\u001b[0;34m\u001b[0m\u001b[0;34m\u001b[0m\u001b[0m\n\u001b[0m\u001b[1;32m    925\u001b[0m       \u001b[0;32mif\u001b[0m \u001b[0mself\u001b[0m\u001b[0;34m.\u001b[0m\u001b[0m_created_variables\u001b[0m\u001b[0;34m:\u001b[0m\u001b[0;34m\u001b[0m\u001b[0;34m\u001b[0m\u001b[0m\n\u001b[1;32m    926\u001b[0m         raise ValueError(\"Creating variables on a non-first call to a function\"\n",
            "\u001b[0;32m/usr/local/lib/python3.7/dist-packages/tensorflow/python/eager/function.py\u001b[0m in \u001b[0;36m__call__\u001b[0;34m(self, *args, **kwargs)\u001b[0m\n\u001b[1;32m   3022\u001b[0m        filtered_flat_args) = self._maybe_define_function(args, kwargs)\n\u001b[1;32m   3023\u001b[0m     return graph_function._call_flat(\n\u001b[0;32m-> 3024\u001b[0;31m         filtered_flat_args, captured_inputs=graph_function.captured_inputs)  # pylint: disable=protected-access\n\u001b[0m\u001b[1;32m   3025\u001b[0m \u001b[0;34m\u001b[0m\u001b[0m\n\u001b[1;32m   3026\u001b[0m   \u001b[0;34m@\u001b[0m\u001b[0mproperty\u001b[0m\u001b[0;34m\u001b[0m\u001b[0;34m\u001b[0m\u001b[0m\n",
            "\u001b[0;32m/usr/local/lib/python3.7/dist-packages/tensorflow/python/eager/function.py\u001b[0m in \u001b[0;36m_call_flat\u001b[0;34m(self, args, captured_inputs, cancellation_manager)\u001b[0m\n\u001b[1;32m   1959\u001b[0m       \u001b[0;31m# No tape is watching; skip to running the function.\u001b[0m\u001b[0;34m\u001b[0m\u001b[0;34m\u001b[0m\u001b[0;34m\u001b[0m\u001b[0m\n\u001b[1;32m   1960\u001b[0m       return self._build_call_outputs(self._inference_function.call(\n\u001b[0;32m-> 1961\u001b[0;31m           ctx, args, cancellation_manager=cancellation_manager))\n\u001b[0m\u001b[1;32m   1962\u001b[0m     forward_backward = self._select_forward_and_backward_functions(\n\u001b[1;32m   1963\u001b[0m         \u001b[0margs\u001b[0m\u001b[0;34m,\u001b[0m\u001b[0;34m\u001b[0m\u001b[0;34m\u001b[0m\u001b[0m\n",
            "\u001b[0;32m/usr/local/lib/python3.7/dist-packages/tensorflow/python/eager/function.py\u001b[0m in \u001b[0;36mcall\u001b[0;34m(self, ctx, args, cancellation_manager)\u001b[0m\n\u001b[1;32m    594\u001b[0m               \u001b[0minputs\u001b[0m\u001b[0;34m=\u001b[0m\u001b[0margs\u001b[0m\u001b[0;34m,\u001b[0m\u001b[0;34m\u001b[0m\u001b[0;34m\u001b[0m\u001b[0m\n\u001b[1;32m    595\u001b[0m               \u001b[0mattrs\u001b[0m\u001b[0;34m=\u001b[0m\u001b[0mattrs\u001b[0m\u001b[0;34m,\u001b[0m\u001b[0;34m\u001b[0m\u001b[0;34m\u001b[0m\u001b[0m\n\u001b[0;32m--> 596\u001b[0;31m               ctx=ctx)\n\u001b[0m\u001b[1;32m    597\u001b[0m         \u001b[0;32melse\u001b[0m\u001b[0;34m:\u001b[0m\u001b[0;34m\u001b[0m\u001b[0;34m\u001b[0m\u001b[0m\n\u001b[1;32m    598\u001b[0m           outputs = execute.execute_with_cancellation(\n",
            "\u001b[0;32m/usr/local/lib/python3.7/dist-packages/tensorflow/python/eager/execute.py\u001b[0m in \u001b[0;36mquick_execute\u001b[0;34m(op_name, num_outputs, inputs, attrs, ctx, name)\u001b[0m\n\u001b[1;32m     58\u001b[0m     \u001b[0mctx\u001b[0m\u001b[0;34m.\u001b[0m\u001b[0mensure_initialized\u001b[0m\u001b[0;34m(\u001b[0m\u001b[0;34m)\u001b[0m\u001b[0;34m\u001b[0m\u001b[0;34m\u001b[0m\u001b[0m\n\u001b[1;32m     59\u001b[0m     tensors = pywrap_tfe.TFE_Py_Execute(ctx._handle, device_name, op_name,\n\u001b[0;32m---> 60\u001b[0;31m                                         inputs, attrs, num_outputs)\n\u001b[0m\u001b[1;32m     61\u001b[0m   \u001b[0;32mexcept\u001b[0m \u001b[0mcore\u001b[0m\u001b[0;34m.\u001b[0m\u001b[0m_NotOkStatusException\u001b[0m \u001b[0;32mas\u001b[0m \u001b[0me\u001b[0m\u001b[0;34m:\u001b[0m\u001b[0;34m\u001b[0m\u001b[0;34m\u001b[0m\u001b[0m\n\u001b[1;32m     62\u001b[0m     \u001b[0;32mif\u001b[0m \u001b[0mname\u001b[0m \u001b[0;32mis\u001b[0m \u001b[0;32mnot\u001b[0m \u001b[0;32mNone\u001b[0m\u001b[0;34m:\u001b[0m\u001b[0;34m\u001b[0m\u001b[0;34m\u001b[0m\u001b[0m\n",
            "\u001b[0;31mKeyboardInterrupt\u001b[0m: "
          ]
        }
      ]
    },
    {
      "cell_type": "markdown",
      "metadata": {
        "id": "LrD1LTQU_K5m"
      },
      "source": [
        "**VISUALIZING THE RESULTS**"
      ]
    },
    {
      "cell_type": "code",
      "metadata": {
        "id": "Gy17G27BPK4e"
      },
      "source": [
        "import matplotlib.pyplot as plt\n",
        "import seaborn as sns\n",
        "sns.set()\n",
        "\n",
        "acc = history.history['accuracy']\n",
        "val_acc = history.history['val_accuracy']\n",
        "loss = history.history['loss']\n",
        "val_loss = history.history['val_loss']\n",
        "epochs = range(1, len(loss) + 1)"
      ],
      "execution_count": null,
      "outputs": []
    },
    {
      "cell_type": "code",
      "metadata": {
        "colab": {
          "base_uri": "https://localhost:8080/",
          "height": 585
        },
        "id": "SetK148RPLxV",
        "outputId": "cf3d84cb-f8e5-48e8-e4d0-d9b61378c845"
      },
      "source": [
        "#accuracy plot\n",
        "plt.plot(epochs, acc, color='green', label='Training Accuracy')\n",
        "plt.plot(epochs, val_acc, color='blue', label='Validation Accuracy')\n",
        "plt.title('Training and Validation Accuracy')\n",
        "plt.ylabel('Accuracy')\n",
        "plt.xlabel('Epoch')\n",
        "plt.legend()\n",
        "\n",
        "plt.figure()\n",
        "#loss plot\n",
        "plt.plot(epochs, loss, color='pink', label='Training Loss')\n",
        "plt.plot(epochs, val_loss, color='red', label='Validation Loss')\n",
        "plt.title('Training and Validation Loss')\n",
        "plt.xlabel('Epoch')\n",
        "plt.ylabel('Loss')\n",
        "plt.legend()\n",
        "\n",
        "plt.show()"
      ],
      "execution_count": null,
      "outputs": [
        {
          "output_type": "display_data",
          "data": {
            "image/png": "[encoded data removed]",
            "text/plain": [
              "<Figure size 432x288 with 1 Axes>"
            ]
          },
          "metadata": {
            "tags": []
          }
        },
        {
          "output_type": "display_data",
          "data": {
            "image/png": "[encoded data removed]",
            "text/plain": [
              "<Figure size 432x288 with 1 Axes>"
            ]
          },
          "metadata": {
            "tags": []
          }
        }
      ]
    },
    {
      "cell_type": "markdown",
      "metadata": {
        "id": "fpmc47cvkxwV"
      },
      "source": [
        "# Xception Model\n",
        "\n"
      ]
    },
    {
      "cell_type": "markdown",
      "metadata": {
        "id": "uPoKShSjlOtR"
      },
      "source": [
        "**INITIALIZING THE BASE MODEL: Xception**"
      ]
    },
    {
      "cell_type": "code",
      "metadata": {
        "id": "SPGyzEmp-JsV"
      },
      "source": [
        "from keras.applications.xception import Xception"
      ],
      "execution_count": null,
      "outputs": []
    },
    {
      "cell_type": "code",
      "metadata": {
        "id": "hqX8zQ-1-KNo",
        "colab": {
          "base_uri": "https://localhost:8080/"
        },
        "outputId": "f284e4d8-a2e2-48d2-dc01-28b45e81e3d6"
      },
      "source": [
        "base_model=Xception(include_top=False, weights=\"imagenet\", input_shape=(150,150,3))\n",
        "base_model.trainable=False"
      ],
      "execution_count": null,
      "outputs": [
        {
          "output_type": "stream",
          "text": [
            "Downloading data from https://storage.googleapis.com/tensorflow/keras-applications/xception/xception_weights_tf_dim_ordering_tf_kernels_notop.h5\n",
            "83689472/83683744 [==============================] - 0s 0us/step\n",
            "83697664/83683744 [==============================] - 0s 0us/step\n"
          ],
          "name": "stdout"
        }
      ]
    },
    {
      "cell_type": "markdown",
      "metadata": {
        "id": "eJ682N6olT6d"
      },
      "source": [
        "**ADDING FURTHER LAYERS**"
      ]
    },
    {
      "cell_type": "code",
      "metadata": {
        "colab": {
          "base_uri": "https://localhost:8080/"
        },
        "id": "_b9bsuev-KaY",
        "outputId": "60b64a9c-df84-4c05-d822-df43418405b1"
      },
      "source": [
        "classifier=keras.models.Sequential()\n",
        "classifier.add(base_model)\n",
        "classifier.add(Flatten())\n",
        "classifier.add(Dense(4,activation='softmax'))\n",
        "classifier.summary()"
      ],
      "execution_count": null,
      "outputs": [
        {
          "output_type": "stream",
          "text": [
            "Model: \"sequential\"\n",
            "_________________________________________________________________\n",
            "Layer (type)                 Output Shape              Param #   \n",
            "=================================================================\n",
            "xception (Functional)        (None, 5, 5, 2048)        20861480  \n",
            "_________________________________________________________________\n",
            "flatten (Flatten)            (None, 51200)             0         \n",
            "_________________________________________________________________\n",
            "dense (Dense)                (None, 4)                 204804    \n",
            "=================================================================\n",
            "Total params: 21,066,284\n",
            "Trainable params: 204,804\n",
            "Non-trainable params: 20,861,480\n",
            "_________________________________________________________________\n"
          ],
          "name": "stdout"
        }
      ]
    },
    {
      "cell_type": "markdown",
      "metadata": {
        "id": "nHxyInZBlZX-"
      },
      "source": [
        "**TRAINING THE MODEL**"
      ]
    },
    {
      "cell_type": "code",
      "metadata": {
        "id": "rsDe3vDCPV1h"
      },
      "source": [
        "classifier.compile(optimizer='adam', loss='categorical_crossentropy', metrics=['accuracy'])"
      ],
      "execution_count": null,
      "outputs": []
    },
    {
      "cell_type": "code",
      "metadata": {
        "colab": {
          "base_uri": "https://localhost:8080/"
        },
        "id": "ytMD4WzxAYXO",
        "outputId": "c409da05-fbe7-467c-ea6b-0ba4a01a8b93"
      },
      "source": [
        "# fitting images to CNN\n",
        "history = classifier.fit(training_set, steps_per_epoch=train_num//batch_size, validation_data=valid_set, epochs=40, validation_steps=valid_num//batch_size)"
      ],
      "execution_count": null,
      "outputs": [
        {
          "output_type": "stream",
          "text": [
            "Epoch 1/40\n",
            "11/11 [==============================] - 153s 10s/step - loss: 4.3503 - accuracy: 0.3542 - val_loss: 3.1476 - val_accuracy: 0.3917\n",
            "Epoch 2/40\n",
            "11/11 [==============================] - 3s 309ms/step - loss: 2.5454 - accuracy: 0.4414 - val_loss: 1.3163 - val_accuracy: 0.5417\n",
            "Epoch 3/40\n",
            "11/11 [==============================] - 3s 303ms/step - loss: 1.7230 - accuracy: 0.5043 - val_loss: 1.5159 - val_accuracy: 0.4250\n",
            "Epoch 4/40\n",
            "11/11 [==============================] - 3s 308ms/step - loss: 1.6283 - accuracy: 0.5422 - val_loss: 1.3512 - val_accuracy: 0.5750\n",
            "Epoch 5/40\n",
            "11/11 [==============================] - 3s 307ms/step - loss: 1.2481 - accuracy: 0.6197 - val_loss: 0.8966 - val_accuracy: 0.6417\n",
            "Epoch 6/40\n",
            "11/11 [==============================] - 3s 305ms/step - loss: 1.3950 - accuracy: 0.5618 - val_loss: 1.1642 - val_accuracy: 0.7083\n",
            "Epoch 7/40\n",
            "11/11 [==============================] - 3s 301ms/step - loss: 1.3575 - accuracy: 0.5908 - val_loss: 1.6078 - val_accuracy: 0.5500\n",
            "Epoch 8/40\n",
            "11/11 [==============================] - 3s 302ms/step - loss: 1.8624 - accuracy: 0.5277 - val_loss: 0.8825 - val_accuracy: 0.7167\n",
            "Epoch 9/40\n",
            "11/11 [==============================] - 3s 298ms/step - loss: 1.4018 - accuracy: 0.5535 - val_loss: 1.0909 - val_accuracy: 0.6333\n",
            "Epoch 10/40\n",
            "11/11 [==============================] - 3s 302ms/step - loss: 1.4900 - accuracy: 0.6093 - val_loss: 1.4719 - val_accuracy: 0.6083\n",
            "Epoch 11/40\n",
            "11/11 [==============================] - 3s 303ms/step - loss: 1.5349 - accuracy: 0.5973 - val_loss: 1.1052 - val_accuracy: 0.6417\n",
            "Epoch 12/40\n",
            "11/11 [==============================] - 3s 303ms/step - loss: 1.3198 - accuracy: 0.6498 - val_loss: 0.9353 - val_accuracy: 0.6583\n",
            "Epoch 13/40\n",
            "11/11 [==============================] - 3s 305ms/step - loss: 1.4982 - accuracy: 0.5946 - val_loss: 1.3955 - val_accuracy: 0.6000\n",
            "Epoch 14/40\n",
            "11/11 [==============================] - 3s 306ms/step - loss: 1.1461 - accuracy: 0.6699 - val_loss: 0.7029 - val_accuracy: 0.6917\n",
            "Epoch 15/40\n",
            "11/11 [==============================] - 3s 303ms/step - loss: 1.2148 - accuracy: 0.6334 - val_loss: 0.9642 - val_accuracy: 0.7167\n",
            "Epoch 16/40\n",
            "11/11 [==============================] - 3s 303ms/step - loss: 1.1304 - accuracy: 0.6592 - val_loss: 1.0672 - val_accuracy: 0.6667\n",
            "Epoch 17/40\n",
            "11/11 [==============================] - 3s 303ms/step - loss: 1.2074 - accuracy: 0.6237 - val_loss: 0.8423 - val_accuracy: 0.7083\n",
            "Epoch 18/40\n",
            "11/11 [==============================] - 3s 306ms/step - loss: 1.4402 - accuracy: 0.5881 - val_loss: 1.1279 - val_accuracy: 0.7000\n",
            "Epoch 19/40\n",
            "11/11 [==============================] - 3s 305ms/step - loss: 1.4371 - accuracy: 0.6110 - val_loss: 1.4018 - val_accuracy: 0.6833\n",
            "Epoch 20/40\n",
            "11/11 [==============================] - 3s 304ms/step - loss: 1.2624 - accuracy: 0.5969 - val_loss: 1.0475 - val_accuracy: 0.7083\n",
            "Epoch 21/40\n",
            "11/11 [==============================] - 3s 305ms/step - loss: 1.4755 - accuracy: 0.6278 - val_loss: 1.5356 - val_accuracy: 0.6417\n",
            "Epoch 22/40\n",
            "11/11 [==============================] - 3s 303ms/step - loss: 1.1095 - accuracy: 0.6956 - val_loss: 1.2318 - val_accuracy: 0.7333\n",
            "Epoch 23/40\n",
            "11/11 [==============================] - 3s 305ms/step - loss: 1.0603 - accuracy: 0.7352 - val_loss: 1.0367 - val_accuracy: 0.6750\n",
            "Epoch 24/40\n",
            "11/11 [==============================] - 3s 304ms/step - loss: 0.9827 - accuracy: 0.6859 - val_loss: 0.9312 - val_accuracy: 0.7250\n",
            "Epoch 25/40\n",
            "11/11 [==============================] - 3s 311ms/step - loss: 1.0676 - accuracy: 0.6946 - val_loss: 0.9055 - val_accuracy: 0.7083\n",
            "Epoch 26/40\n",
            "11/11 [==============================] - 3s 303ms/step - loss: 1.0587 - accuracy: 0.7102 - val_loss: 0.7748 - val_accuracy: 0.7167\n",
            "Epoch 27/40\n",
            "11/11 [==============================] - 3s 309ms/step - loss: 1.0831 - accuracy: 0.6595 - val_loss: 0.8401 - val_accuracy: 0.7250\n",
            "Epoch 28/40\n",
            "11/11 [==============================] - 3s 300ms/step - loss: 0.8046 - accuracy: 0.7165 - val_loss: 0.9279 - val_accuracy: 0.7250\n",
            "Epoch 29/40\n",
            "11/11 [==============================] - 3s 302ms/step - loss: 0.8655 - accuracy: 0.6999 - val_loss: 0.8472 - val_accuracy: 0.7583\n",
            "Epoch 30/40\n",
            "11/11 [==============================] - 3s 303ms/step - loss: 0.7600 - accuracy: 0.7392 - val_loss: 0.7497 - val_accuracy: 0.7167\n",
            "Epoch 31/40\n",
            "11/11 [==============================] - 3s 302ms/step - loss: 0.9282 - accuracy: 0.7169 - val_loss: 0.7500 - val_accuracy: 0.7333\n",
            "Epoch 32/40\n",
            "11/11 [==============================] - 3s 301ms/step - loss: 1.0015 - accuracy: 0.7250 - val_loss: 0.9738 - val_accuracy: 0.7250\n",
            "Epoch 33/40\n",
            "11/11 [==============================] - 3s 298ms/step - loss: 1.2033 - accuracy: 0.6334 - val_loss: 0.7354 - val_accuracy: 0.7333\n",
            "Epoch 34/40\n",
            "11/11 [==============================] - 3s 300ms/step - loss: 1.0762 - accuracy: 0.6742 - val_loss: 1.3097 - val_accuracy: 0.6000\n",
            "Epoch 35/40\n",
            "11/11 [==============================] - 3s 300ms/step - loss: 1.3713 - accuracy: 0.6172 - val_loss: 0.7211 - val_accuracy: 0.7917\n",
            "Epoch 36/40\n",
            "11/11 [==============================] - 3s 304ms/step - loss: 0.9929 - accuracy: 0.7089 - val_loss: 1.0227 - val_accuracy: 0.7000\n",
            "Epoch 37/40\n",
            "11/11 [==============================] - 3s 303ms/step - loss: 1.3987 - accuracy: 0.6470 - val_loss: 1.2876 - val_accuracy: 0.6583\n",
            "Epoch 38/40\n",
            "11/11 [==============================] - 3s 302ms/step - loss: 1.3420 - accuracy: 0.6597 - val_loss: 0.7757 - val_accuracy: 0.7250\n",
            "Epoch 39/40\n",
            "11/11 [==============================] - 3s 308ms/step - loss: 1.1627 - accuracy: 0.7221 - val_loss: 0.6505 - val_accuracy: 0.7833\n",
            "Epoch 40/40\n",
            "11/11 [==============================] - 3s 305ms/step - loss: 1.1653 - accuracy: 0.6907 - val_loss: 1.0248 - val_accuracy: 0.7500\n"
          ],
          "name": "stdout"
        }
      ]
    },
    {
      "cell_type": "code",
      "metadata": {
        "id": "nA1htR4_SOVC",
        "colab": {
          "base_uri": "https://localhost:8080/"
        },
        "outputId": "d7973aa2-d3b4-4e47-a0ac-b07aa074174f"
      },
      "source": [
        "\n",
        "import cv2\n",
        "import numpy as np\n",
        "\n",
        "\n",
        "\n",
        "img = cv2.imread('/content/drive/MyDrive/autistic/test/neutral/0008.jpg')\n",
        "img = cv2.resize(img,(150,150))\n",
        "img = np.reshape(img,[1,150,150,3])\n",
        "\n",
        "classes = classifier.predict(img)\n",
        "\n",
        "print(classes)"
      ],
      "execution_count": null,
      "outputs": [
        {
          "output_type": "stream",
          "text": [
            "[[0. 0. 0. 1.]]\n"
          ],
          "name": "stdout"
        }
      ]
    },
    {
      "cell_type": "code",
      "metadata": {
        "id": "iAK6X4uesAOE",
        "colab": {
          "base_uri": "https://localhost:8080/"
        },
        "outputId": "e5eabddb-945b-4c70-ed32-1abd00a75193"
      },
      "source": [
        "print(history.history.keys())"
      ],
      "execution_count": null,
      "outputs": [
        {
          "output_type": "stream",
          "text": [
            "dict_keys(['loss', 'accuracy', 'val_loss', 'val_accuracy'])\n"
          ],
          "name": "stdout"
        }
      ]
    },
    {
      "cell_type": "code",
      "metadata": {
        "id": "li2u_-qwAc22",
        "colab": {
          "base_uri": "https://localhost:8080/"
        },
        "outputId": "d6cf1f41-ec11-42a4-cd95-2c22111fb2ec"
      },
      "source": [
        "#Saving our model\n",
        "filepath=\"Mymodel.h5\"\n",
        "classifier.save(filepath)"
      ],
      "execution_count": null,
      "outputs": [
        {
          "output_type": "stream",
          "text": [
            "/usr/local/lib/python3.7/dist-packages/keras/utils/generic_utils.py:497: CustomMaskWarning: Custom mask layers require a config and must override get_config. When loading, the custom mask layer must be passed to the custom_objects argument.\n",
            "  category=CustomMaskWarning)\n"
          ],
          "name": "stderr"
        }
      ]
    },
    {
      "cell_type": "markdown",
      "metadata": {
        "id": "tmG5rrx5lfNB"
      },
      "source": [
        "**VISUALIZING THE RESULTS**"
      ]
    },
    {
      "cell_type": "code",
      "metadata": {
        "id": "3Zfr7D9xAiB3"
      },
      "source": [
        "import matplotlib.pyplot as plt\n",
        "import seaborn as sns\n",
        "sns.set()\n",
        "\n",
        "acc = history.history['accuracy']\n",
        "val_acc = history.history['val_accuracy']\n",
        "loss = history.history['loss']\n",
        "val_loss = history.history['val_loss']\n",
        "epochs = range(1, len(loss) + 1)"
      ],
      "execution_count": null,
      "outputs": []
    },
    {
      "cell_type": "code",
      "metadata": {
        "colab": {
          "base_uri": "https://localhost:8080/",
          "height": 585
        },
        "id": "nfpamuttAmkp",
        "outputId": "271cab64-f426-4cff-c1ed-5ee4acb3dbd3"
      },
      "source": [
        "#accuracy plot\n",
        "plt.plot(epochs, acc, color='green', label='Training Accuracy')\n",
        "plt.plot(epochs, val_acc, color='blue', label='Validation Accuracy')\n",
        "plt.title('Training and Validation Accuracy')\n",
        "plt.ylabel('Accuracy')\n",
        "plt.xlabel('Epoch')\n",
        "plt.legend()\n",
        "\n",
        "plt.figure()\n",
        "#loss plot\n",
        "plt.plot(epochs, loss, color='pink', label='Training Loss')\n",
        "plt.plot(epochs, val_loss, color='red', label='Validation Loss')\n",
        "plt.title('Training and Validation Loss')\n",
        "plt.xlabel('Epoch')\n",
        "plt.ylabel('Loss')\n",
        "plt.legend()\n",
        "\n",
        "plt.show()"
      ],
      "execution_count": null,
      "outputs": [
        {
          "output_type": "display_data",
          "data": {
            "image/png": "[encoded data removed]",
            "text/plain": [
              "<Figure size 432x288 with 1 Axes>"
            ]
          },
          "metadata": {
            "tags": []
          }
        },
        {
          "output_type": "display_data",
          "data": {
            "image/png": "[encoded data removed]",
            "text/plain": [
              "<Figure size 432x288 with 1 Axes>"
            ]
          },
          "metadata": {
            "tags": []
          }
        }
      ]
    },
    {
      "cell_type": "markdown",
      "metadata": {
        "id": "XC0nRcrjm3op"
      },
      "source": [
        "# InceptionV3 Model"
      ]
    },
    {
      "cell_type": "markdown",
      "metadata": {
        "id": "M_cr3bDTm9lB"
      },
      "source": [
        "**INITIALIZING THE BASE MODEL: InceptionV3**"
      ]
    },
    {
      "cell_type": "code",
      "metadata": {
        "id": "pmfALjjGlkW_",
        "colab": {
          "base_uri": "https://localhost:8080/",
          "height": 322
        },
        "outputId": "96e3fe3c-0004-428d-c239-6ea321511f64"
      },
      "source": [
        "from keras.applications import InceptionV3"
      ],
      "execution_count": null,
      "outputs": [
        {
          "output_type": "error",
          "ename": "ImportError",
          "evalue": "ignored",
          "traceback": [
            "\u001b[0;31m---------------------------------------------------------------------------\u001b[0m",
            "\u001b[0;31mImportError\u001b[0m                               Traceback (most recent call last)",
            "\u001b[0;32m<ipython-input-28-ea29b1d176f0>\u001b[0m in \u001b[0;36m<module>\u001b[0;34m()\u001b[0m\n\u001b[0;32m----> 1\u001b[0;31m \u001b[0;32mfrom\u001b[0m \u001b[0mkeras\u001b[0m\u001b[0;34m.\u001b[0m\u001b[0mapplications\u001b[0m \u001b[0;32mimport\u001b[0m \u001b[0mInceptionV3\u001b[0m\u001b[0;34m\u001b[0m\u001b[0;34m\u001b[0m\u001b[0m\n\u001b[0m",
            "\u001b[0;31mImportError\u001b[0m: cannot import name 'InceptionV3' from 'keras.applications' (/usr/local/lib/python3.7/dist-packages/keras/applications/__init__.py)",
            "",
            "\u001b[0;31m---------------------------------------------------------------------------\u001b[0;32m\nNOTE: If your import is failing due to a missing package, you can\nmanually install dependencies using either !pip or !apt.\n\nTo view examples of installing some common dependencies, click the\n\"Open Examples\" button below.\n\u001b[0;31m---------------------------------------------------------------------------\u001b[0m\n"
          ]
        }
      ]
    },
    {
      "cell_type": "code",
      "metadata": {
        "colab": {
          "base_uri": "https://localhost:8080/"
        },
        "id": "q4ukd71nllO6",
        "outputId": "4e64ca63-fa46-4c9b-f0b4-755dbbf0a8c4"
      },
      "source": [
        "base_model=InceptionV3(include_top=False, weights=\"imagenet\", input_shape=(224,224,3))\n",
        "base_model.trainable=False"
      ],
      "execution_count": null,
      "outputs": [
        {
          "output_type": "stream",
          "text": [
            "Downloading data from https://storage.googleapis.com/tensorflow/keras-applications/inception_v3/inception_v3_weights_tf_dim_ordering_tf_kernels_notop.h5\n",
            "87916544/87910968 [==============================] - 0s 0us/step\n"
          ],
          "name": "stdout"
        }
      ]
    },
    {
      "cell_type": "markdown",
      "metadata": {
        "id": "HOS-_sTWnEj2"
      },
      "source": [
        "**ADDING FURTHER LAYERS**"
      ]
    },
    {
      "cell_type": "code",
      "metadata": {
        "colab": {
          "base_uri": "https://localhost:8080/"
        },
        "id": "UeSfnekLl5QA",
        "outputId": "c0bea238-c835-42fc-941e-a55bdfa8e8cc"
      },
      "source": [
        "classifier=keras.models.Sequential()\n",
        "classifier.add(base_model)\n",
        "classifier.add(Flatten())\n",
        "classifier.add(Dense(39,activation='softmax'))\n",
        "classifier.summary()"
      ],
      "execution_count": null,
      "outputs": [
        {
          "output_type": "stream",
          "text": [
            "Model: \"sequential_3\"\n",
            "_________________________________________________________________\n",
            "Layer (type)                 Output Shape              Param #   \n",
            "=================================================================\n",
            "inception_v3 (Functional)    (None, 5, 5, 2048)        21802784  \n",
            "_________________________________________________________________\n",
            "flatten_3 (Flatten)          (None, 51200)             0         \n",
            "_________________________________________________________________\n",
            "dense_3 (Dense)              (None, 39)                1996839   \n",
            "=================================================================\n",
            "Total params: 23,799,623\n",
            "Trainable params: 1,996,839\n",
            "Non-trainable params: 21,802,784\n",
            "_________________________________________________________________\n"
          ],
          "name": "stdout"
        }
      ]
    },
    {
      "cell_type": "markdown",
      "metadata": {
        "id": "La2SOPlwnOxs"
      },
      "source": [
        "**TRAINING THE MODEL**"
      ]
    },
    {
      "cell_type": "code",
      "metadata": {
        "id": "oig7udc_mJL3"
      },
      "source": [
        "classifier.compile(optimizer='adam', loss='categorical_crossentropy', metrics=['accuracy'])"
      ],
      "execution_count": null,
      "outputs": []
    },
    {
      "cell_type": "code",
      "metadata": {
        "colab": {
          "base_uri": "https://localhost:8080/"
        },
        "id": "OAKOA5cCmBeh",
        "outputId": "1278315f-a7fc-42cd-ae62-5027a5f8f129"
      },
      "source": [
        "#fitting images to CNN\n",
        "history = classifier.fit(training_set, steps_per_epoch=train_num//batch_size, validation_data=valid_set, epochs=3, validation_steps=valid_num//batch_size)"
      ],
      "execution_count": null,
      "outputs": [
        {
          "output_type": "stream",
          "text": [
            "Epoch 1/3\n",
            "346/346 [==============================] - 503s 1s/step - loss: 2.9268 - accuracy: 0.7390 - val_loss: 1.4422 - val_accuracy: 0.8249\n",
            "Epoch 2/3\n",
            "346/346 [==============================] - 506s 1s/step - loss: 1.4313 - accuracy: 0.8338 - val_loss: 1.2199 - val_accuracy: 0.8698\n",
            "Epoch 3/3\n",
            "346/346 [==============================] - 507s 1s/step - loss: 1.5036 - accuracy: 0.8553 - val_loss: 1.3818 - val_accuracy: 0.8749\n"
          ],
          "name": "stdout"
        }
      ]
    },
    {
      "cell_type": "code",
      "metadata": {
        "id": "80YkFIG_mNQS"
      },
      "source": [
        "#Saving our model\n",
        "filepath=\"Mymodel2.h5\"\n",
        "classifier.save(filepath)"
      ],
      "execution_count": null,
      "outputs": []
    },
    {
      "cell_type": "markdown",
      "metadata": {
        "id": "lNGnIHmanUKH"
      },
      "source": [
        "**VISUALIZING THE RESULTS**"
      ]
    },
    {
      "cell_type": "code",
      "metadata": {
        "id": "pr0NqcNmmONQ"
      },
      "source": [
        "import matplotlib.pyplot as plt\n",
        "import seaborn as sns\n",
        "sns.set()\n",
        "\n",
        "acc = history.history['accuracy']\n",
        "val_acc = history.history['val_accuracy']\n",
        "loss = history.history['loss']\n",
        "val_loss = history.history['val_loss']\n",
        "epochs = range(1, len(loss) + 1)"
      ],
      "execution_count": null,
      "outputs": []
    },
    {
      "cell_type": "code",
      "metadata": {
        "colab": {
          "base_uri": "https://localhost:8080/",
          "height": 585
        },
        "id": "aJwxO6xOmRiP",
        "outputId": "93ea4b46-83fb-49da-ab89-6e227984be56"
      },
      "source": [
        "#accuracy plot\n",
        "plt.plot(epochs, acc, color='green', label='Training Accuracy')\n",
        "plt.plot(epochs, val_acc, color='blue', label='Validation Accuracy')\n",
        "plt.title('Training and Validation Accuracy')\n",
        "plt.ylabel('Accuracy')\n",
        "plt.xlabel('Epoch')\n",
        "plt.legend()\n",
        "\n",
        "plt.figure()\n",
        "#loss plot\n",
        "plt.plot(epochs, loss, color='pink', label='Training Loss')\n",
        "plt.plot(epochs, val_loss, color='red', label='Validation Loss')\n",
        "plt.title('Training and Validation Loss')\n",
        "plt.xlabel('Epoch')\n",
        "plt.ylabel('Loss')\n",
        "plt.legend()\n",
        "\n",
        "plt.show()"
      ],
      "execution_count": null,
      "outputs": [
        {
          "output_type": "display_data",
          "data": {
            "image/png": "[encoded data removed]",
            "text/plain": [
              "<Figure size 432x288 with 1 Axes>"
            ]
          },
          "metadata": {
            "tags": []
          }
        },
        {
          "output_type": "display_data",
          "data": {
            "image/png": "[encoded data removed]",
            "text/plain": [
              "<Figure size 432x288 with 1 Axes>"
            ]
          },
          "metadata": {
            "tags": []
          }
        }
      ]
    },
    {
      "cell_type": "markdown",
      "metadata": {
        "id": "S0g02neGne0g"
      },
      "source": [
        "# ResNet152 Model"
      ]
    },
    {
      "cell_type": "markdown",
      "metadata": {
        "id": "h7ze5eeGn4fP"
      },
      "source": [
        "**INITIALIZING THE BASE MODEL: ResNet152**"
      ]
    },
    {
      "cell_type": "code",
      "metadata": {
        "id": "2jYcGp99nbxm"
      },
      "source": [
        "from keras.applications import ResNet152"
      ],
      "execution_count": null,
      "outputs": []
    },
    {
      "cell_type": "code",
      "metadata": {
        "colab": {
          "base_uri": "https://localhost:8080/"
        },
        "id": "-1QaN4h_nbxm",
        "outputId": "a6b2ae4f-8b37-490e-cbdb-2ae1c48524b4"
      },
      "source": [
        "base_model=ResNet152(include_top=False, weights=\"imagenet\", input_shape=(224,224,3))\n",
        "base_model.trainable=False"
      ],
      "execution_count": null,
      "outputs": [
        {
          "output_type": "stream",
          "text": [
            "Downloading data from https://storage.googleapis.com/tensorflow/keras-applications/resnet/resnet152_weights_tf_dim_ordering_tf_kernels_notop.h5\n",
            "234700800/234698864 [==============================] - 4s 0us/step\n"
          ],
          "name": "stdout"
        }
      ]
    },
    {
      "cell_type": "markdown",
      "metadata": {
        "id": "VlNVzFtRnbxn"
      },
      "source": [
        "**ADDING FURTHER LAYERS**"
      ]
    },
    {
      "cell_type": "code",
      "metadata": {
        "colab": {
          "base_uri": "https://localhost:8080/"
        },
        "id": "NMclLP6-nbxn",
        "outputId": "7f042342-3147-4d71-92a8-622237d161b9"
      },
      "source": [
        "classifier=keras.models.Sequential()\n",
        "classifier.add(base_model)\n",
        "classifier.add(Flatten())\n",
        "classifier.add(Dense(39,activation='softmax'))\n",
        "classifier.summary()"
      ],
      "execution_count": null,
      "outputs": [
        {
          "output_type": "stream",
          "text": [
            "Model: \"sequential_4\"\n",
            "_________________________________________________________________\n",
            "Layer (type)                 Output Shape              Param #   \n",
            "=================================================================\n",
            "resnet152 (Functional)       (None, 7, 7, 2048)        58370944  \n",
            "_________________________________________________________________\n",
            "flatten_4 (Flatten)          (None, 100352)            0         \n",
            "_________________________________________________________________\n",
            "dense_4 (Dense)              (None, 39)                3913767   \n",
            "=================================================================\n",
            "Total params: 62,284,711\n",
            "Trainable params: 3,913,767\n",
            "Non-trainable params: 58,370,944\n",
            "_________________________________________________________________\n"
          ],
          "name": "stdout"
        }
      ]
    },
    {
      "cell_type": "markdown",
      "metadata": {
        "id": "oWMg47xRnbxn"
      },
      "source": [
        "**TRAINING THE MODEL**"
      ]
    },
    {
      "cell_type": "code",
      "metadata": {
        "id": "_mjvr6lVnbxn"
      },
      "source": [
        "classifier.compile(optimizer='adam', loss='categorical_crossentropy', metrics=['accuracy'])"
      ],
      "execution_count": null,
      "outputs": []
    },
    {
      "cell_type": "code",
      "metadata": {
        "colab": {
          "base_uri": "https://localhost:8080/"
        },
        "id": "Iv2c3DH7nbxn",
        "outputId": "1573817b-3df6-4a07-ba26-e3ea4e1b2713"
      },
      "source": [
        "#fitting images to CNN\n",
        "history = classifier.fit(training_set, steps_per_epoch=train_num//batch_size, validation_data=valid_set, epochs=3, validation_steps=valid_num//batch_size)"
      ],
      "execution_count": null,
      "outputs": [
        {
          "output_type": "stream",
          "text": [
            "Epoch 1/3\n",
            "346/346 [==============================] - 571s 2s/step - loss: 4.0544 - accuracy: 0.2379 - val_loss: 2.4718 - val_accuracy: 0.3916\n",
            "Epoch 2/3\n",
            "346/346 [==============================] - 575s 2s/step - loss: 2.7233 - accuracy: 0.3258 - val_loss: 2.4766 - val_accuracy: 0.3805\n",
            "Epoch 3/3\n",
            "346/346 [==============================] - 585s 2s/step - loss: 2.6487 - accuracy: 0.3654 - val_loss: 2.6794 - val_accuracy: 0.4221\n"
          ],
          "name": "stdout"
        }
      ]
    },
    {
      "cell_type": "code",
      "metadata": {
        "id": "RFHCxFkDnbxn"
      },
      "source": [
        "#Saving our model\n",
        "filepath=\"Mymodel2.h5\"\n",
        "classifier.save(filepath)"
      ],
      "execution_count": null,
      "outputs": []
    },
    {
      "cell_type": "markdown",
      "metadata": {
        "id": "BvSOh09cnbxn"
      },
      "source": [
        "**VISUALIZING THE RESULTS**"
      ]
    },
    {
      "cell_type": "code",
      "metadata": {
        "id": "RvSuLddbnbxn"
      },
      "source": [
        "import matplotlib.pyplot as plt\n",
        "import seaborn as sns\n",
        "sns.set()\n",
        "\n",
        "acc = history.history['accuracy']\n",
        "val_acc = history.history['val_accuracy']\n",
        "loss = history.history['loss']\n",
        "val_loss = history.history['val_loss']\n",
        "epochs = range(1, len(loss) + 1)"
      ],
      "execution_count": null,
      "outputs": []
    },
    {
      "cell_type": "code",
      "metadata": {
        "colab": {
          "base_uri": "https://localhost:8080/",
          "height": 585
        },
        "id": "aO-L0XGhnbxn",
        "outputId": "f2009018-228c-41df-c364-60f0056182e0"
      },
      "source": [
        "#accuracy plot\n",
        "plt.plot(epochs, acc, color='green', label='Training Accuracy')\n",
        "plt.plot(epochs, val_acc, color='blue', label='Validation Accuracy')\n",
        "plt.title('Training and Validation Accuracy')\n",
        "plt.ylabel('Accuracy')\n",
        "plt.xlabel('Epoch')\n",
        "plt.legend()\n",
        "\n",
        "plt.figure()\n",
        "#loss plot\n",
        "plt.plot(epochs, loss, color='pink', label='Training Loss')\n",
        "plt.plot(epochs, val_loss, color='red', label='Validation Loss')\n",
        "plt.title('Training and Validation Loss')\n",
        "plt.xlabel('Epoch')\n",
        "plt.ylabel('Loss')\n",
        "plt.legend()\n",
        "\n",
        "plt.show()"
      ],
      "execution_count": null,
      "outputs": [
        {
          "output_type": "display_data",
          "data": {
            "image/png": "[encoded data removed]",
            "text/plain": [
              "<Figure size 432x288 with 1 Axes>"
            ]
          },
          "metadata": {
            "tags": []
          }
        },
        {
          "output_type": "display_data",
          "data": {
            "image/png": "[encoded data removed]",
            "text/plain": [
              "<Figure size 432x288 with 1 Axes>"
            ]
          },
          "metadata": {
            "tags": []
          }
        }
      ]
    },
    {
      "cell_type": "code",
      "metadata": {
        "id": "S05dntKmqiG0"
      },
      "source": [
        ""
      ],
      "execution_count": null,
      "outputs": []
    },
    {
      "cell_type": "markdown",
      "metadata": {
        "id": "xPmDbbHKqVE4"
      },
      "source": [
        "# MoblieNetV2 Model"
      ]
    },
    {
      "cell_type": "markdown",
      "metadata": {
        "id": "Yrxvlx5pqVE5"
      },
      "source": [
        "**INITIALIZING THE BASE MODEL: MobileNetV2**"
      ]
    },
    {
      "cell_type": "code",
      "metadata": {
        "id": "xXpkFqUmqVE5"
      },
      "source": [
        "from keras.applications import MobileNetV2"
      ],
      "execution_count": null,
      "outputs": []
    },
    {
      "cell_type": "code",
      "metadata": {
        "id": "UDtCDE1YqVE5",
        "colab": {
          "base_uri": "https://localhost:8080/"
        },
        "outputId": "67b9a22d-e9d5-4996-a1e4-14147f11c811"
      },
      "source": [
        "base_model=MobileNetV2(include_top=False, weights=\"imagenet\", input_shape=(224,224,3))\n",
        "base_model.trainable=False"
      ],
      "execution_count": null,
      "outputs": [
        {
          "output_type": "stream",
          "text": [
            "Downloading data from https://storage.googleapis.com/tensorflow/keras-applications/mobilenet_v2/mobilenet_v2_weights_tf_dim_ordering_tf_kernels_1.0_224_no_top.h5\n",
            "9412608/9406464 [==============================] - 0s 0us/step\n"
          ],
          "name": "stdout"
        }
      ]
    },
    {
      "cell_type": "markdown",
      "metadata": {
        "id": "ManQUyPyqVE5"
      },
      "source": [
        "**ADDING FURTHER LAYERS**"
      ]
    },
    {
      "cell_type": "code",
      "metadata": {
        "colab": {
          "base_uri": "https://localhost:8080/"
        },
        "id": "aDPQMjUeqVE5",
        "outputId": "19797519-7362-4cce-8a77-f3d08de1b702"
      },
      "source": [
        "classifier=keras.models.Sequential()\n",
        "classifier.add(base_model)\n",
        "classifier.add(Flatten())\n",
        "classifier.add(Dense(39,activation='softmax'))\n",
        "classifier.summary()"
      ],
      "execution_count": null,
      "outputs": [
        {
          "output_type": "stream",
          "text": [
            "Model: \"sequential\"\n",
            "_________________________________________________________________\n",
            "Layer (type)                 Output Shape              Param #   \n",
            "=================================================================\n",
            "mobilenetv2_1.00_224 (Functi (None, 7, 7, 1280)        2257984   \n",
            "_________________________________________________________________\n",
            "flatten (Flatten)            (None, 62720)             0         \n",
            "_________________________________________________________________\n",
            "dense (Dense)                (None, 39)                2446119   \n",
            "=================================================================\n",
            "Total params: 4,704,103\n",
            "Trainable params: 2,446,119\n",
            "Non-trainable params: 2,257,984\n",
            "_________________________________________________________________\n"
          ],
          "name": "stdout"
        }
      ]
    },
    {
      "cell_type": "markdown",
      "metadata": {
        "id": "pStnYgczqVE5"
      },
      "source": [
        "**TRAINING THE MODEL**"
      ]
    },
    {
      "cell_type": "code",
      "metadata": {
        "id": "RVDJw9y3qVE5"
      },
      "source": [
        "classifier.compile(optimizer='adam', loss='categorical_crossentropy', metrics=['accuracy'])"
      ],
      "execution_count": null,
      "outputs": []
    },
    {
      "cell_type": "code",
      "metadata": {
        "colab": {
          "base_uri": "https://localhost:8080/"
        },
        "id": "OfGwS-N3qVE5",
        "outputId": "01fcf082-78f1-4182-8b9d-4cfcced3e99e"
      },
      "source": [
        "#fitting images to CNN\n",
        "history = classifier.fit(training_set, steps_per_epoch=train_num//batch_size, validation_data=valid_set, epochs=3, validation_steps=valid_num//batch_size)"
      ],
      "execution_count": null,
      "outputs": [
        {
          "output_type": "stream",
          "text": [
            "Epoch 1/3\n",
            "346/346 [==============================] - 522s 2s/step - loss: 2.1738 - accuracy: 0.8239 - val_loss: 1.1626 - val_accuracy: 0.8947\n",
            "Epoch 2/3\n",
            "346/346 [==============================] - 514s 1s/step - loss: 1.3340 - accuracy: 0.8984 - val_loss: 1.2385 - val_accuracy: 0.9092\n",
            "Epoch 3/3\n",
            "346/346 [==============================] - 506s 1s/step - loss: 1.2360 - accuracy: 0.9186 - val_loss: 1.1849 - val_accuracy: 0.9221\n"
          ],
          "name": "stdout"
        }
      ]
    },
    {
      "cell_type": "code",
      "metadata": {
        "id": "IfnpUfqiqVE5"
      },
      "source": [
        "#Saving our model\n",
        "filepath=\"Mymodel2.h5\"\n",
        "classifier.save(filepath)"
      ],
      "execution_count": null,
      "outputs": []
    },
    {
      "cell_type": "markdown",
      "metadata": {
        "id": "99QOvKOgqVE5"
      },
      "source": [
        "**VISUALIZING THE RESULTS**"
      ]
    },
    {
      "cell_type": "code",
      "metadata": {
        "id": "vDPMzks0qVE5"
      },
      "source": [
        "import matplotlib.pyplot as plt\n",
        "import seaborn as sns\n",
        "sns.set()\n",
        "\n",
        "acc = history.history['accuracy']\n",
        "val_acc = history.history['val_accuracy']\n",
        "loss = history.history['loss']\n",
        "val_loss = history.history['val_loss']\n",
        "epochs = range(1, len(loss) + 1)"
      ],
      "execution_count": null,
      "outputs": []
    },
    {
      "cell_type": "code",
      "metadata": {
        "id": "-FD8QNasqVE5",
        "colab": {
          "base_uri": "https://localhost:8080/",
          "height": 585
        },
        "outputId": "13fa1d83-b284-4efd-ff24-0bb8bcc90cca"
      },
      "source": [
        "#accuracy plot\n",
        "plt.plot(epochs, acc, color='green', label='Training Accuracy')\n",
        "plt.plot(epochs, val_acc, color='blue', label='Validation Accuracy')\n",
        "plt.title('Training and Validation Accuracy')\n",
        "plt.ylabel('Accuracy')\n",
        "plt.xlabel('Epoch')\n",
        "plt.legend()\n",
        "\n",
        "plt.figure()\n",
        "#loss plot\n",
        "plt.plot(epochs, loss, color='pink', label='Training Loss')\n",
        "plt.plot(epochs, val_loss, color='red', label='Validation Loss')\n",
        "plt.title('Training and Validation Loss')\n",
        "plt.xlabel('Epoch')\n",
        "plt.ylabel('Loss')\n",
        "plt.legend()\n",
        "\n",
        "plt.show()"
      ],
      "execution_count": null,
      "outputs": [
        {
          "output_type": "display_data",
          "data": {
            "image/png": "[encoded data removed]",
            "text/plain": [
              "<Figure size 432x288 with 1 Axes>"
            ]
          },
          "metadata": {
            "tags": []
          }
        },
        {
          "output_type": "display_data",
          "data": {
            "image/png": "[encoded data removed]",
            "text/plain": [
              "<Figure size 432x288 with 1 Axes>"
            ]
          },
          "metadata": {
            "tags": []
          }
        }
      ]
    }
  ]
}